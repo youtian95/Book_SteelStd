{
 "cells": [
  {
   "cell_type": "markdown",
   "id": "bae01168",
   "metadata": {},
   "source": [
    "# 附录M 罕遇地震作用下的侧移计算\n",
    "\n",
    "罕遇地震作用下的侧移可按下列公式计算：\n",
    "\n",
    "当 ![公式](media/image1206.svg) 时：\n",
    "$$\n",
    "\\Delta_u = \\Delta_{ue} \\cdot \\eta \\tag{M-1}\n",
    "$$\n",
    "\n",
    "当 ![公式](media/image1208.svg) 时：\n",
    "$$\n",
    "\\Delta_u = \\Delta_{ue} \\cdot \\eta \\cdot \\frac{T}{T_g} \\tag{M-2}\n",
    "$$\n",
    "\n",
    "$$\n",
    "\\Delta_u = \\Delta_{ue} \\cdot \\eta \\cdot \\frac{T_g}{T} \\tag{M-3}\n",
    "$$\n",
    "\n",
    "式中：  \n",
    "$T$ —— 结构自振周期；  \n",
    "$T_g$ —— 特征周期；  \n",
    "$\\beta_e$ —— 多遇地震作用下水平地震影响系数最大值；  \n",
    "$\\beta_u$ —— 罕遇地震作用下水平地震影响系数最大值；  \n",
    "$\\Delta_{ue}$ —— 多遇地震作用下楼层内最大的弹性层间位移；  \n",
    "$\\Delta_u$ —— 罕遇地震作用下楼层内最大的弹塑性层间位移；  \n",
    "$\\eta$ —— 二阶效应系数，按本规范第5.1.6条的规定采用。\n",
    "\n",
    "**注：** 计算支撑结构的 $\\Delta_{ue}$ 时，应考虑支撑屈曲后的刚度折减。"
   ]
  }
 ],
 "metadata": {
  "jupytext": {
   "formats": "md:myst",
   "text_representation": {
    "extension": ".md",
    "format_name": "myst"
   }
  },
  "kernelspec": {
   "display_name": "Python 3",
   "language": "python",
   "name": "python3"
  },
  "language_info": {
   "codemirror_mode": {
    "name": "ipython",
    "version": 3
   },
   "file_extension": ".py",
   "mimetype": "text/x-python",
   "name": "python",
   "nbconvert_exporter": "python",
   "pygments_lexer": "ipython3",
   "version": "3.13.2"
  },
  "source_map": [
   11
  ]
 },
 "nbformat": 4,
 "nbformat_minor": 5
}
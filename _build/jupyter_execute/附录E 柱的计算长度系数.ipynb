{
 "cells": [
  {
   "cell_type": "markdown",
   "id": "90c3c851",
   "metadata": {},
   "source": [
    "# 附录E  柱的计算长度系数\n",
    "\n",
    "## 表E-1 无侧移框架柱的计算长度系数\n",
    "![](media/image943.svg)\n",
    "![](media/image944.svg)\n",
    "\n",
    "## 表E-2 有侧移框架柱的计算长度系数\n",
    "![](media/image945.svg)\n",
    "![](media/image946.svg)\n",
    "\n",
    "## 表E-3 柱上端为自由的单阶柱下段的计算长度系数\n",
    "![](media/image947.svg)\n",
    "![](media/image948.svg)\n",
    "\n",
    "## 表E-4 柱上端可移动但不转动的单阶柱下段的计算长度系数\n",
    "![](media/image949.svg)\n",
    "![](media/image950.svg)\n",
    "\n",
    "## 表E-5 柱上端为自由的双阶柱下段的计算长度系数\n",
    "![](media/image951.svg)\n",
    "![](media/image952.svg)\n",
    "\n",
    "### 续表E-5\n",
    "![](media/image952.svg)\n",
    "\n",
    "## 表E-6 柱顶可移动但不转动的双阶柱下段的计算长度系数\n",
    "![](media/image951.svg)\n",
    "![](media/image953.svg)\n",
    "\n",
    "### 续表E-6\n",
    "![](media/image953.svg)\n",
    "```"
   ]
  }
 ],
 "metadata": {
  "jupytext": {
   "formats": "md:myst",
   "text_representation": {
    "extension": ".md",
    "format_name": "myst"
   }
  },
  "kernelspec": {
   "display_name": "Python 3",
   "language": "python",
   "name": "python3"
  },
  "language_info": {
   "codemirror_mode": {
    "name": "ipython",
    "version": 3
   },
   "file_extension": ".py",
   "mimetype": "text/x-python",
   "name": "python",
   "nbconvert_exporter": "python",
   "pygments_lexer": "ipython3",
   "version": "3.13.2"
  },
  "source_map": [
   11
  ]
 },
 "nbformat": 4,
 "nbformat_minor": 5
}
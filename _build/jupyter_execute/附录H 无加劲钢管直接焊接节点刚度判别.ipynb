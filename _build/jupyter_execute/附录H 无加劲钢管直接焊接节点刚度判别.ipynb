{
 "cells": [
  {
   "cell_type": "markdown",
   "id": "398e5f5b",
   "metadata": {},
   "source": [
    "# 附录H  无加劲钢管直接焊接节点刚度判别\n",
    "\n",
    "## 1. 空腹桁架、单层网格结构中无加劲圆钢管直接焊接节点的刚度应按下列规定计算\n",
    "\n",
    "### 1.1 平面T形（或Y形）节点\n",
    "\n",
    "1. 支管轴力作用下的节点刚度 $K_{N}$ 应按下式计算（图13.3.1-2和图13.3.1-3）：\n",
    "\n",
    "   $$\n",
    "   K_{N} = \\dots \\tag{H.0.1-1}\n",
    "   $$\n",
    "\n",
    "2. 支管平面内弯矩作用下的节点刚度 $K_{M}$ 应按下式计算（图13.3.3-1）：\n",
    "\n",
    "   $$\n",
    "   K_{M} = \\dots \\tag{H.0.1-2}\n",
    "   $$\n",
    "\n",
    "   其中，$30^\\circ \\leq \\theta \\leq 90^\\circ$, $0.2 \\leq \\beta \\leq 1.0$, $10 \\leq \\gamma \\leq 50$, $0.2 \\leq \\tau \\leq 1.0$。\n",
    "\n",
    "### 1.2 平面/微曲面X形节点\n",
    "\n",
    "1. 支管轴力作用下的节点刚度 $K_{N}$ 应按下式计算（图13.3.1-1）：\n",
    "\n",
    "   $$\n",
    "   K_{N} = \\dots \\tag{H.0.1-3}\n",
    "   $$\n",
    "\n",
    "   其中，$60^\\circ \\leq \\theta \\leq 90^\\circ$, $0^\\circ \\leq \\phi \\leq 10^\\circ$, $0.5 \\leq \\beta \\leq 0.9$, $5 \\leq \\gamma \\leq 25$, $0.5 \\leq \\tau \\leq 1.0$。\n",
    "\n",
    "2. 支管平面内弯矩作用下的节点刚度 $K_{M}$ 应按下式计算（图13.3.3-2）：\n",
    "\n",
    "   $$\n",
    "   K_{M} = \\dots \\tag{H.0.1-4}\n",
    "   $$\n",
    "\n",
    "3. 支管平面外弯矩作用下的节点刚度 $K_{M}$ 应按下式计算（图13.3.3-2）：\n",
    "\n",
    "   $$\n",
    "   K_{M} = \\dots \\tag{H.0.1-5}\n",
    "   $$\n",
    "\n",
    "   其中，$30^\\circ \\leq \\theta \\leq 90^\\circ$, $0^\\circ \\leq \\phi \\leq 30^\\circ$, $0.2 \\leq \\beta \\leq 0.9$, $5 \\leq \\gamma \\leq 50$, $0.2 \\leq \\tau \\leq 0.8$。\n",
    "\n",
    "## 2. 空腹桁架中无加劲方管直接焊接节点的刚度应按下列规定计算\n",
    "\n",
    "### 2.1 T形节点的轴向刚度\n",
    "\n",
    "T形节点的轴向刚度可采用公式（H.0.2-1）计算：\n",
    "\n",
    "   $$\n",
    "   K_{N} = \\dots \\tag{H.0.2-1}\n",
    "   $$\n",
    "\n",
    "   式中：$K_{N} = \\dots$\n",
    "\n",
    "### 2.2 T形节点的抗弯刚度\n",
    "\n",
    "T形节点的抗弯刚度可采用公式（H.0.2-2）计算：\n",
    "\n",
    "   $$\n",
    "   K_{M} = \\dots \\tag{H.0.2-2}\n",
    "   $$\n",
    "\n",
    "## 3. 空腹桁架采用无加劲钢管直接焊接节点时的刚度判别条件如下\n",
    "\n",
    "1. 符合T形节点相应的几何参数的适用范围。\n",
    "\n",
    "2. 当空腹桁架跨数为偶数时，在节点平面内抗弯刚度与支管线刚度之比不小于 $G_{1}$ 时，可将节点视为刚接，否则应视为半刚接；其中 $G$ 为该节点相邻的支管线刚度与主管线刚度的比值。\n",
    "\n",
    "3. 当空腹桁架跨数为奇数时，在与跨中相邻节点的平面内抗弯刚度与支管线刚度之比不小于 $G_{2}$ 时，可将该节点视为刚接；在除与跨中相邻节点以外的其他节点的平面内抗弯刚度与支管线刚度之比不小于 $G_{1}$ 时，可将该节点视为刚接。"
   ]
  }
 ],
 "metadata": {
  "jupytext": {
   "formats": "md:myst",
   "text_representation": {
    "extension": ".md",
    "format_name": "myst"
   }
  },
  "kernelspec": {
   "display_name": "Python 3",
   "language": "python",
   "name": "python3"
  },
  "language_info": {
   "codemirror_mode": {
    "name": "ipython",
    "version": 3
   },
   "file_extension": ".py",
   "mimetype": "text/x-python",
   "name": "python",
   "nbconvert_exporter": "python",
   "pygments_lexer": "ipython3",
   "version": "3.13.2"
  },
  "source_map": [
   11
  ]
 },
 "nbformat": 4,
 "nbformat_minor": 5
}
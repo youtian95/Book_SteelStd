{
 "cells": [
  {
   "cell_type": "markdown",
   "id": "00b3280b",
   "metadata": {},
   "source": [
    "# 附录J  钢与混凝土组合梁的疲劳验算\n",
    "\n",
    "## J.1 本节规定仅针对直接承受动力荷载的组合梁\n",
    "\n",
    "组合梁的疲劳验算应符合本规范第17章的规定。\n",
    "\n",
    "## J.2 当抗剪连接件为圆柱头焊钉时\n",
    "\n",
    "应按本规范16章的规定对承受剪力的圆柱头焊钉进行剪应力幅疲劳验算，构件和连接类别取为J3。\n",
    "\n",
    "## J.3 当抗剪连接件焊于承受拉应力的钢梁翼缘时\n",
    "\n",
    "应按本规范16章的规定对焊有焊钉的受拉钢板进行正应力幅疲劳验算，构件和连接类别取为Z7。同时还应满足下列要求：\n",
    "\n",
    "### 对常幅疲劳或变幅疲劳\n",
    "\n",
    "$$\n",
    "\\frac{\\tau}{\\tau_a} + \\frac{\\sigma}{\\sigma_a} \\leq 1 \\tag{J.0.3-1}\n",
    "$$\n",
    "\n",
    "式中：\n",
    "\n",
    "- $\\tau$ —— 焊钉名义剪应力幅或等效名义剪应力幅（N/mm²），按本规范16.2节的规定计算；\n",
    "- $\\tau_a$ —— 焊钉容许剪应力幅（N/mm²），按本规范公式（16.2.2-5）计算，构件和连接类别取为J3；\n",
    "- $\\sigma$ —— 焊有焊钉的受拉钢板名义正应力幅或等效名义正应力幅（N/mm²），按本规范16.2节的规定计算；\n",
    "- $\\sigma_a$ —— 焊有焊钉的受拉钢板容许正应力幅（N/mm²），按本规范公式（16.2.2-3）计算，构件和连接类别取为Z7。\n",
    "\n",
    "### 对于重级工作制吊车梁和重级、中级工作制吊车桁架\n",
    "\n",
    "$$\n",
    "\\frac{\\tau}{\\gamma \\tau_{a2}} + \\frac{\\sigma}{\\gamma \\sigma_{a2}} \\leq 1 \\tag{J.0.3-2}\n",
    "$$\n",
    "\n",
    "式中：\n",
    "\n",
    "- $\\gamma$ —— 欠载系数，按本规范表16.2.4的规定计算；\n",
    "- $\\tau_{a2}$ —— 循环次数$n$为$2 \\times 10^6$次焊钉的容许剪应力幅（N/mm²），按本规范表16.2.1-2的规定计算，构件和连接类别取为J3；\n",
    "- $\\sigma_{a2}$ —— 循环次数$n$为$2 \\times 10^6$次焊有焊钉受拉钢板的允许正应力幅（N/mm²），按本规范表16.2.1-1的规定计算，构件和连接类别取为Z7。"
   ]
  }
 ],
 "metadata": {
  "jupytext": {
   "formats": "md:myst",
   "text_representation": {
    "extension": ".md",
    "format_name": "myst"
   }
  },
  "kernelspec": {
   "display_name": "Python 3",
   "language": "python",
   "name": "python3"
  },
  "language_info": {
   "codemirror_mode": {
    "name": "ipython",
    "version": 3
   },
   "file_extension": ".py",
   "mimetype": "text/x-python",
   "name": "python",
   "nbconvert_exporter": "python",
   "pygments_lexer": "ipython3",
   "version": "3.13.2"
  },
  "source_map": [
   11
  ]
 },
 "nbformat": 4,
 "nbformat_minor": 5
}